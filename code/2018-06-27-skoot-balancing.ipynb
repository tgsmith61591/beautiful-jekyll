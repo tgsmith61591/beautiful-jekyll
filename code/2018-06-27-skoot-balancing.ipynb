{
 "cells": [
  {
   "cell_type": "code",
   "execution_count": 1,
   "metadata": {
    "collapsed": false
   },
   "outputs": [
    {
     "name": "stdout",
     "output_type": "stream",
     "text": [
      "Skoot version: 0.19.2-dev1\n"
     ]
    }
   ],
   "source": [
    "from sklearn.datasets import make_classification\n",
    "from matplotlib import pyplot as plt\n",
    "import skoot\n",
    "%matplotlib inline\n",
    "\n",
    "print(\"Skoot version: %s\" % skoot.__version__)"
   ]
  },
  {
   "cell_type": "markdown",
   "metadata": {},
   "source": [
    "# Create some imbalanced data"
   ]
  },
  {
   "cell_type": "code",
   "execution_count": 3,
   "metadata": {
    "collapsed": false
   },
   "outputs": [
    {
     "name": "stdout",
     "output_type": "stream",
     "text": [
      "n_positive (train): 467\n",
      "n_positive (test): 117\n"
     ]
    }
   ],
   "source": [
    "from sklearn.model_selection import train_test_split\n",
    "\n",
    "# Create the dataset\n",
    "seed = 42\n",
    "X, y = make_classification(random_state=seed, n_features=2, n_redundant=0, \n",
    "                           n_repeated=0, n_samples=100000, n_classes=2,\n",
    "                           weights=[.999])\n",
    "\n",
    "# Split the data\n",
    "X_train, X_test, y_train, y_test = train_test_split(X, y, test_size=0.2,\n",
    "                                                    random_state=seed,\n",
    "                                                    stratify=y)\n",
    "\n",
    "# Make sure we have positive classes in train/test\n",
    "print(\"n_positive (train): %i\" % (y_train == 1).sum())\n",
    "print(\"n_positive (test): %i\" % (y_test == 1).sum())"
   ]
  },
  {
   "cell_type": "markdown",
   "metadata": {},
   "source": [
    "# Model with no balancing"
   ]
  },
  {
   "cell_type": "code",
   "execution_count": 4,
   "metadata": {
    "collapsed": false
   },
   "outputs": [
    {
     "name": "stdout",
     "output_type": "stream",
     "text": [
      "Accuracy: 0.994\n",
      "Num positive predictions: 0\n"
     ]
    }
   ],
   "source": [
    "from sklearn.linear_model import LogisticRegression\n",
    "from sklearn.metrics import accuracy_score\n",
    "\n",
    "clf = LogisticRegression().fit(X_train, y_train)\n",
    "preds = clf.predict(X_test)\n",
    "print(\"Accuracy: %.3f\" % accuracy_score(y_test, preds))\n",
    "print(\"Num positive predictions: %i\" % (preds == 1).sum())"
   ]
  },
  {
   "cell_type": "markdown",
   "metadata": {},
   "source": [
    "## Balance our classes"
   ]
  },
  {
   "cell_type": "code",
   "execution_count": 9,
   "metadata": {
    "collapsed": true
   },
   "outputs": [],
   "source": [
    "from skoot.balance import under_sample_balance\n",
    "from skoot.balance import over_sample_balance\n",
    "from skoot.balance import smote_balance\n",
    "\n",
    "# Create an under-sampled set\n",
    "X_train_under, y_train_under = under_sample_balance(X_train, y_train, \n",
    "                                                    balance_ratio=0.3, \n",
    "                                                    random_state=seed)\n",
    "\n",
    "# Create an over-sampled set\n",
    "X_train_over, y_train_over = over_sample_balance(X_train, y_train, \n",
    "                                                 balance_ratio=0.3, \n",
    "                                                 random_state=seed)\n",
    "\n",
    "# Create a SMOTE-set\n",
    "X_train_smote, y_train_smote = smote_balance(X_train, y_train,\n",
    "                                             balance_ratio=0.3, \n",
    "                                             n_neighbors=10,\n",
    "                                             random_state=seed)"
   ]
  },
  {
   "cell_type": "markdown",
   "metadata": {},
   "source": [
    "### Fit & evaluate balanced datasets/models"
   ]
  },
  {
   "cell_type": "code",
   "execution_count": 12,
   "metadata": {
    "collapsed": false
   },
   "outputs": [
    {
     "name": "stdout",
     "output_type": "stream",
     "text": [
      "[ 0.77777778  0.78518519  0.77860327]\n",
      "Num positive predictions: 34\n",
      "\n",
      "[ 0.77730385  0.77689763  0.77747795]\n",
      "Num positive predictions: 16\n",
      "\n",
      "[ 0.77846448  0.77741992  0.77797122]\n",
      "Num positive predictions: 12\n",
      "\n"
     ]
    }
   ],
   "source": [
    "from sklearn.model_selection import cross_val_score, StratifiedKFold\n",
    "\n",
    "def do_fit(train_array, train_labels):\n",
    "    # Get CV scores\n",
    "    print(cross_val_score(LogisticRegression(), train_array, train_labels,\n",
    "                          scoring=\"accuracy\", \n",
    "                          cv=StratifiedKFold(n_splits=3, random_state=seed)))\n",
    "    \n",
    "    clf = LogisticRegression().fit(train_array, train_labels)\n",
    "    preds = clf.predict(X_test)\n",
    "    print(\"Num positive predictions: %i\" % (preds == 1).sum())\n",
    "    print()\n",
    "    \n",
    "do_fit(X_train_under, y_train_under)\n",
    "do_fit(X_train_over, y_train_over)\n",
    "do_fit(X_train_smote, y_train_smote)"
   ]
  },
  {
   "cell_type": "code",
   "execution_count": null,
   "metadata": {
    "collapsed": true
   },
   "outputs": [],
   "source": []
  }
 ],
 "metadata": {
  "anaconda-cloud": {},
  "kernelspec": {
   "display_name": "Python [py35]",
   "language": "python",
   "name": "Python [py35]"
  },
  "language_info": {
   "codemirror_mode": {
    "name": "ipython",
    "version": 3
   },
   "file_extension": ".py",
   "mimetype": "text/x-python",
   "name": "python",
   "nbconvert_exporter": "python",
   "pygments_lexer": "ipython3",
   "version": "3.5.3"
  }
 },
 "nbformat": 4,
 "nbformat_minor": 0
}
